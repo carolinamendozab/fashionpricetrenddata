{
 "cells": [
  {
   "cell_type": "code",
   "execution_count": 1,
   "id": "fd9bb1a0",
   "metadata": {},
   "outputs": [],
   "source": [
    "##pip install requests-html"
   ]
  },
  {
   "cell_type": "code",
   "execution_count": 2,
   "id": "7952bd0e",
   "metadata": {},
   "outputs": [],
   "source": [
    "import re"
   ]
  },
  {
   "cell_type": "code",
   "execution_count": 3,
   "id": "f22c1715",
   "metadata": {},
   "outputs": [
    {
     "name": "stderr",
     "output_type": "stream",
     "text": [
      "C:\\Users\\Carolina Mendoza\\AppData\\Local\\Packages\\PythonSoftwareFoundation.Python.3.9_qbz5n2kfra8p0\\LocalCache\\local-packages\\Python39\\site-packages\\requests\\__init__.py:102: RequestsDependencyWarning: urllib3 (1.26.8) or chardet (5.0.0)/charset_normalizer (2.0.11) doesn't match a supported version!\n",
      "  warnings.warn(\"urllib3 ({}) or chardet ({})/charset_normalizer ({}) doesn't match a supported \"\n"
     ]
    }
   ],
   "source": [
    "import time\n",
    "import re\n",
    "import requests\n",
    "#from resquests_html import HTMLSession\n",
    "import pandas as pd\n",
    "from bs4 import BeautifulSoup\n",
    "import numpy as np\n",
    "import pycountry"
   ]
  },
  {
   "cell_type": "code",
   "execution_count": 4,
   "id": "78d9bf62",
   "metadata": {},
   "outputs": [],
   "source": [
    "#Setting headers\n",
    "headers= {'User-Agent': 'Mozilla/5.0 (Windows NT 10.0; Win64; x64) AppleWebKit/537.36 (KHTML, like Gecko) Chrome/101.0.4951.54 Safari/537.36' \n",
    "}"
   ]
  },
  {
   "cell_type": "code",
   "execution_count": 9,
   "id": "328ad846",
   "metadata": {},
   "outputs": [],
   "source": [
    "# Country codes\n",
    "countrylinks=['ad','ae','al','am','az','ba','be','bg','bh','ca','ch','cn','co','cr','cy','cz','de','dk','do','dz','ee','eg','es','fi','fr','ge','gr','gt','hk','hn','hr','hu','id','ie','il','in','is','it','jo','jp','kr','kw','kz','lb','lt','lu','lv','ma','mc','me','mk','mo','mt','mx','my','nl','no','om','pa','ph','pl','pt','qa','ro','rs','sa','se','sg','si','sk','sv','th','tn','tr','tw','ua','uk','us']"
   ]
  },
  {
   "cell_type": "code",
   "execution_count": 10,
   "id": "7c1f1b8b",
   "metadata": {},
   "outputs": [],
   "source": [
    "#Defining URL structure\n",
    "def build_url(country):\n",
    "    #Fall 2022#return 'https://www.zara.com/'+country+'/en/linen-blend-print-dress-p03274740.html?v1=171726299'\n",
    "    return 'https://www.zara.com/'+country+'/en/micro-dot-mini-dress-p09878080.html?v1=227086146' #Spring 2023\n"
   ]
  },
  {
   "cell_type": "code",
   "execution_count": 11,
   "id": "1a215e52",
   "metadata": {},
   "outputs": [
    {
     "name": "stdout",
     "output_type": "stream",
     "text": [
      "['https://www.zara.com/ad/en/micro-dot-mini-dress-p09878080.html?v1=227086146', 'https://www.zara.com/ae/en/micro-dot-mini-dress-p09878080.html?v1=227086146', 'https://www.zara.com/al/en/micro-dot-mini-dress-p09878080.html?v1=227086146', 'https://www.zara.com/am/en/micro-dot-mini-dress-p09878080.html?v1=227086146', 'https://www.zara.com/az/en/micro-dot-mini-dress-p09878080.html?v1=227086146', 'https://www.zara.com/ba/en/micro-dot-mini-dress-p09878080.html?v1=227086146', 'https://www.zara.com/be/en/micro-dot-mini-dress-p09878080.html?v1=227086146', 'https://www.zara.com/bg/en/micro-dot-mini-dress-p09878080.html?v1=227086146', 'https://www.zara.com/bh/en/micro-dot-mini-dress-p09878080.html?v1=227086146', 'https://www.zara.com/ca/en/micro-dot-mini-dress-p09878080.html?v1=227086146', 'https://www.zara.com/ch/en/micro-dot-mini-dress-p09878080.html?v1=227086146', 'https://www.zara.com/cn/en/micro-dot-mini-dress-p09878080.html?v1=227086146', 'https://www.zara.com/co/en/micro-dot-mini-dress-p09878080.html?v1=227086146', 'https://www.zara.com/cr/en/micro-dot-mini-dress-p09878080.html?v1=227086146', 'https://www.zara.com/cy/en/micro-dot-mini-dress-p09878080.html?v1=227086146', 'https://www.zara.com/cz/en/micro-dot-mini-dress-p09878080.html?v1=227086146', 'https://www.zara.com/de/en/micro-dot-mini-dress-p09878080.html?v1=227086146', 'https://www.zara.com/dk/en/micro-dot-mini-dress-p09878080.html?v1=227086146', 'https://www.zara.com/do/en/micro-dot-mini-dress-p09878080.html?v1=227086146', 'https://www.zara.com/dz/en/micro-dot-mini-dress-p09878080.html?v1=227086146', 'https://www.zara.com/ee/en/micro-dot-mini-dress-p09878080.html?v1=227086146', 'https://www.zara.com/eg/en/micro-dot-mini-dress-p09878080.html?v1=227086146', 'https://www.zara.com/es/en/micro-dot-mini-dress-p09878080.html?v1=227086146', 'https://www.zara.com/fi/en/micro-dot-mini-dress-p09878080.html?v1=227086146', 'https://www.zara.com/fr/en/micro-dot-mini-dress-p09878080.html?v1=227086146', 'https://www.zara.com/ge/en/micro-dot-mini-dress-p09878080.html?v1=227086146', 'https://www.zara.com/gr/en/micro-dot-mini-dress-p09878080.html?v1=227086146', 'https://www.zara.com/gt/en/micro-dot-mini-dress-p09878080.html?v1=227086146', 'https://www.zara.com/hk/en/micro-dot-mini-dress-p09878080.html?v1=227086146', 'https://www.zara.com/hn/en/micro-dot-mini-dress-p09878080.html?v1=227086146', 'https://www.zara.com/hr/en/micro-dot-mini-dress-p09878080.html?v1=227086146', 'https://www.zara.com/hu/en/micro-dot-mini-dress-p09878080.html?v1=227086146', 'https://www.zara.com/id/en/micro-dot-mini-dress-p09878080.html?v1=227086146', 'https://www.zara.com/ie/en/micro-dot-mini-dress-p09878080.html?v1=227086146', 'https://www.zara.com/il/en/micro-dot-mini-dress-p09878080.html?v1=227086146', 'https://www.zara.com/in/en/micro-dot-mini-dress-p09878080.html?v1=227086146', 'https://www.zara.com/is/en/micro-dot-mini-dress-p09878080.html?v1=227086146', 'https://www.zara.com/it/en/micro-dot-mini-dress-p09878080.html?v1=227086146', 'https://www.zara.com/jo/en/micro-dot-mini-dress-p09878080.html?v1=227086146', 'https://www.zara.com/jp/en/micro-dot-mini-dress-p09878080.html?v1=227086146', 'https://www.zara.com/kr/en/micro-dot-mini-dress-p09878080.html?v1=227086146', 'https://www.zara.com/kw/en/micro-dot-mini-dress-p09878080.html?v1=227086146', 'https://www.zara.com/kz/en/micro-dot-mini-dress-p09878080.html?v1=227086146', 'https://www.zara.com/lb/en/micro-dot-mini-dress-p09878080.html?v1=227086146', 'https://www.zara.com/lt/en/micro-dot-mini-dress-p09878080.html?v1=227086146', 'https://www.zara.com/lu/en/micro-dot-mini-dress-p09878080.html?v1=227086146', 'https://www.zara.com/lv/en/micro-dot-mini-dress-p09878080.html?v1=227086146', 'https://www.zara.com/ma/en/micro-dot-mini-dress-p09878080.html?v1=227086146', 'https://www.zara.com/mc/en/micro-dot-mini-dress-p09878080.html?v1=227086146', 'https://www.zara.com/me/en/micro-dot-mini-dress-p09878080.html?v1=227086146', 'https://www.zara.com/mk/en/micro-dot-mini-dress-p09878080.html?v1=227086146', 'https://www.zara.com/mo/en/micro-dot-mini-dress-p09878080.html?v1=227086146', 'https://www.zara.com/mt/en/micro-dot-mini-dress-p09878080.html?v1=227086146', 'https://www.zara.com/mx/en/micro-dot-mini-dress-p09878080.html?v1=227086146', 'https://www.zara.com/my/en/micro-dot-mini-dress-p09878080.html?v1=227086146', 'https://www.zara.com/nl/en/micro-dot-mini-dress-p09878080.html?v1=227086146', 'https://www.zara.com/no/en/micro-dot-mini-dress-p09878080.html?v1=227086146', 'https://www.zara.com/om/en/micro-dot-mini-dress-p09878080.html?v1=227086146', 'https://www.zara.com/pa/en/micro-dot-mini-dress-p09878080.html?v1=227086146', 'https://www.zara.com/ph/en/micro-dot-mini-dress-p09878080.html?v1=227086146', 'https://www.zara.com/pl/en/micro-dot-mini-dress-p09878080.html?v1=227086146', 'https://www.zara.com/pt/en/micro-dot-mini-dress-p09878080.html?v1=227086146', 'https://www.zara.com/qa/en/micro-dot-mini-dress-p09878080.html?v1=227086146', 'https://www.zara.com/ro/en/micro-dot-mini-dress-p09878080.html?v1=227086146', 'https://www.zara.com/rs/en/micro-dot-mini-dress-p09878080.html?v1=227086146', 'https://www.zara.com/sa/en/micro-dot-mini-dress-p09878080.html?v1=227086146', 'https://www.zara.com/se/en/micro-dot-mini-dress-p09878080.html?v1=227086146', 'https://www.zara.com/sg/en/micro-dot-mini-dress-p09878080.html?v1=227086146', 'https://www.zara.com/si/en/micro-dot-mini-dress-p09878080.html?v1=227086146', 'https://www.zara.com/sk/en/micro-dot-mini-dress-p09878080.html?v1=227086146', 'https://www.zara.com/sv/en/micro-dot-mini-dress-p09878080.html?v1=227086146', 'https://www.zara.com/th/en/micro-dot-mini-dress-p09878080.html?v1=227086146', 'https://www.zara.com/tn/en/micro-dot-mini-dress-p09878080.html?v1=227086146', 'https://www.zara.com/tr/en/micro-dot-mini-dress-p09878080.html?v1=227086146', 'https://www.zara.com/tw/en/micro-dot-mini-dress-p09878080.html?v1=227086146', 'https://www.zara.com/ua/en/micro-dot-mini-dress-p09878080.html?v1=227086146', 'https://www.zara.com/uk/en/micro-dot-mini-dress-p09878080.html?v1=227086146', 'https://www.zara.com/us/en/micro-dot-mini-dress-p09878080.html?v1=227086146']\n"
     ]
    }
   ],
   "source": [
    "#Creating URL\n",
    "country_urls = [build_url(country) for country in countrylinks]\n",
    "print(country_urls)"
   ]
  },
  {
   "cell_type": "code",
   "execution_count": 12,
   "id": "7f16286a",
   "metadata": {},
   "outputs": [
    {
     "name": "stdout",
     "output_type": "stream",
     "text": [
      "Saving: POLKA DOT MINI DRESS\n",
      "Saving: POLKA DOT MINI DRESS\n",
      "Saving: POLKA DOT MINI DRESS\n",
      "Saving: POLKA DOT MINI DRESS\n",
      "Saving: POLKA DOT MINI DRESS\n",
      "Saving: POLKA DOT MINI DRESS\n",
      "Saving: POLKA DOT MINI DRESS\n",
      "Saving: POLKA DOT MINI DRESS\n",
      "Saving: POLKA DOT MINI DRESS\n",
      "Saving: MICRO DOT MINI DRESS\n",
      "Saving: POLKA DOT MINI DRESS\n",
      "Saving: POLKA DOT MINI DRESS\n",
      "Saving: MICRO DOT MINI DRESS\n",
      "Saving: MICRO DOT MINI DRESS\n",
      "Saving: POLKA DOT MINI DRESS\n",
      "Saving: POLKA DOT MINI DRESS\n",
      "Saving: POLKA DOT MINI DRESS\n",
      "Saving: POLKA DOT MINI DRESS\n",
      "Saving: MICRO DOT MINI DRESS\n",
      "Saving: POLKA DOT MINI DRESS\n",
      "Saving: POLKA DOT MINI DRESS\n",
      "Saving: POLKA DOT MINI DRESS\n",
      "Saving: POLKA DOT MINI DRESS\n",
      "Saving: POLKA DOT MINI DRESS\n",
      "Saving: POLKA DOT MINI DRESS\n",
      "Saving: POLKA DOT MINI DRESS\n",
      "Saving: POLKA DOT MINI DRESS\n",
      "Saving: MICRO DOT MINI DRESS\n",
      "Saving: POLKA DOT MINI DRESS\n",
      "Saving: MICRO DOT MINI DRESS\n",
      "Saving: POLKA DOT MINI DRESS\n",
      "Saving: POLKA DOT MINI DRESS\n",
      "Saving: POLKA DOT MINI DRESS\n",
      "Saving: POLKA DOT MINI DRESS\n",
      "Saving: POLKA DOT MINI DRESS\n",
      "Saving: POLKA DOT MINI DRESS\n",
      "Saving: POLKA DOT MINI DRESS\n",
      "Saving: POLKA DOT MINI DRESS\n",
      "Saving: POLKA DOT MINI DRESS\n",
      "Saving: POLKA DOT MINI DRESS\n",
      "Saving: POLKA DOT MINI DRESS\n",
      "Saving: POLKA DOT MINI DRESS\n",
      "Saving: POLKA DOT MINI DRESS\n",
      "Saving: POLKA DOT MINI DRESS\n",
      "Saving: POLKA DOT MINI DRESS\n",
      "Saving: POLKA DOT MINI DRESS\n",
      "Saving: POLKA DOT MINI DRESS\n",
      "Saving: POLKA DOT MINI DRESS\n",
      "Saving: POLKA DOT MINI DRESS\n",
      "Saving: POLKA DOT MINI DRESS\n",
      "Saving: POLKA DOT MINI DRESS\n",
      "Saving: POLKA DOT MINI DRESS\n",
      "Saving: POLKA DOT MINI DRESS\n",
      "Saving: MICRO DOT MINI DRESS\n",
      "Saving: POLKA DOT MINI DRESS\n",
      "Saving: POLKA DOT MINI DRESS\n",
      "Saving: POLKA DOT MINI DRESS\n",
      "Saving: POLKA DOT MINI DRESS\n",
      "Saving: MICRO DOT MINI DRESS\n",
      "Saving: POLKA DOT MINI DRESS\n",
      "Saving: POLKA DOT MINI DRESS\n",
      "Saving: POLKA DOT MINI DRESS\n",
      "Saving: POLKA DOT MINI DRESS\n",
      "Saving: POLKA DOT MINI DRESS\n",
      "Saving: POLKA DOT MINI DRESS\n",
      "Saving: POLKA DOT MINI DRESS\n",
      "Saving: POLKA DOT MINI DRESS\n",
      "Saving: POLKA DOT MINI DRESS\n",
      "Saving: POLKA DOT MINI DRESS\n",
      "Saving: POLKA DOT MINI DRESS\n",
      "Saving: MICRO DOT MINI DRESS\n",
      "Saving: POLKA DOT MINI DRESS\n",
      "Saving: POLKA DOT MINI DRESS\n",
      "Saving: POLKA DOT MINI DRESS\n",
      "Saving: POLKA DOT MINI DRESS\n",
      "Saving: POLKA DOT MINI DRESS\n",
      "Saving: POLKA DOT MINI DRESS\n",
      "Saving: MICRO DOT MINI DRESS\n"
     ]
    }
   ],
   "source": [
    "#Scraping data from website\n",
    "dresslist=[]\n",
    "complete_url=[]\n",
    "no_data=[]\n",
    "\n",
    "for url in country_urls:\n",
    "    r=requests.get(url,headers=headers)\n",
    "    soup=BeautifulSoup(r.content,'lxml')\n",
    "    name=soup.find('h1',class_='product-detail-info__header-name').text.strip()\n",
    "    price=soup.find('span',class_='price-current__amount').text.strip()\n",
    "    dress={\n",
    "    'name': name,\n",
    "    'price':price\n",
    "    }\n",
    "    dresslist.append(dress)\n",
    "    complete_url.append(url)\n",
    "    no_data.append(url)\n",
    "    print('Saving:',dress['name'])\n"
   ]
  },
  {
   "cell_type": "code",
   "execution_count": 13,
   "id": "585e0683",
   "metadata": {},
   "outputs": [
    {
     "name": "stdout",
     "output_type": "stream",
     "text": [
      "78\n",
      "https://www.zara.com/ad/en/micro-dot-mini-dress-p09878080.html?v1=227086146\n"
     ]
    }
   ],
   "source": [
    "#Check Number of countries with data\n",
    "print(len(complete_url))\n",
    "print(complete_url[0])"
   ]
  },
  {
   "cell_type": "code",
   "execution_count": null,
   "id": "a4eab677",
   "metadata": {},
   "outputs": [],
   "source": [
    "#print(no_data)"
   ]
  },
  {
   "cell_type": "code",
   "execution_count": 14,
   "id": "ecbb4f79",
   "metadata": {},
   "outputs": [
    {
     "name": "stdout",
     "output_type": "stream",
     "text": [
      "['/ad/', '/ae/', '/al/', '/am/', '/az/', '/ba/', '/be/', '/bg/', '/bh/', '/ca/', '/ch/', '/cn/', '/co/', '/cr/', '/cy/', '/cz/', '/de/', '/dk/', '/do/', '/dz/', '/ee/', '/eg/', '/es/', '/fi/', '/fr/', '/ge/', '/gr/', '/gt/', '/hk/', '/hn/', '/hr/', '/hu/', '/id/', '/ie/', '/il/', '/in/', '/is/', '/it/', '/jo/', '/jp/', '/kr/', '/kw/', '/kz/', '/lb/', '/lt/', '/lu/', '/lv/', '/ma/', '/mc/', '/me/', '/mk/', '/mo/', '/mt/', '/mx/', '/my/', '/nl/', '/no/', '/om/', '/pa/', '/ph/', '/pl/', '/pt/', '/qa/', '/ro/', '/rs/', '/sa/', '/se/', '/sg/', '/si/', '/sk/', '/sv/', '/th/', '/tn/', '/tr/', '/tw/', '/ua/', '/uk/', '/us/']\n",
      "['ad', 'ae', 'al', 'am', 'az', 'ba', 'be', 'bg', 'bh', 'ca', 'ch', 'cn', 'co', 'cr', 'cy', 'cz', 'de', 'dk', 'do', 'dz', 'ee', 'eg', 'es', 'fi', 'fr', 'ge', 'gr', 'gt', 'hk', 'hn', 'hr', 'hu', 'id', 'ie', 'il', 'in', 'is', 'it', 'jo', 'jp', 'kr', 'kw', 'kz', 'lb', 'lt', 'lu', 'lv', 'ma', 'mc', 'me', 'mk', 'mo', 'mt', 'mx', 'my', 'nl', 'no', 'om', 'pa', 'ph', 'pl', 'pt', 'qa', 'ro', 'rs', 'sa', 'se', 'sg', 'si', 'sk', 'sv', 'th', 'tn', 'tr', 'tw', 'ua', 'uk', 'us']\n"
     ]
    }
   ],
   "source": [
    "#Extracting list countries with data \n",
    "trial=[]\n",
    "\n",
    "for i in complete_url:\n",
    "    m = re.findall(\"/[a-z]{2}/\",i)\n",
    "    trial.append(m)\n",
    "\n",
    "#print(trial)\n",
    "\n",
    "#Flatten nested list\n",
    "flat_list = [item for sublist in trial for item in sublist]\n",
    "print(flat_list)\n",
    "\n",
    "\n",
    "#Remove unnecesary characters\n",
    "mylist = ' '.join(flat_list).replace('/','').split()\n",
    "print(mylist)"
   ]
  },
  {
   "cell_type": "code",
   "execution_count": null,
   "id": "c9c56af2",
   "metadata": {},
   "outputs": [],
   "source": [
    "print(dresslist)"
   ]
  },
  {
   "cell_type": "code",
   "execution_count": 15,
   "id": "1abbe464",
   "metadata": {},
   "outputs": [
    {
     "name": "stdout",
     "output_type": "stream",
     "text": [
      "                    name          price\n",
      "0   POLKA DOT MINI DRESS      29.00 EUR\n",
      "1   POLKA DOT MINI DRESS     199.00 AED\n",
      "2   POLKA DOT MINI DRESS      3,990 ALL\n",
      "3   POLKA DOT MINI DRESS  24,900.00 AMD\n",
      "4   POLKA DOT MINI DRESS      89.00 AZN\n",
      "..                   ...            ...\n",
      "73  POLKA DOT MINI DRESS      659.95 TL\n",
      "74  POLKA DOT MINI DRESS      NT$ 1,490\n",
      "75  POLKA DOT MINI DRESS   1,499.00 UAH\n",
      "76  POLKA DOT MINI DRESS      35.99 GBP\n",
      "77  MICRO DOT MINI DRESS      49.90 USD\n",
      "\n",
      "[78 rows x 2 columns]\n"
     ]
    }
   ],
   "source": [
    "#Create dataframe with price data\n",
    "df=pd.DataFrame(dresslist)\n",
    "print(df)"
   ]
  },
  {
   "cell_type": "code",
   "execution_count": null,
   "id": "5bf2a9e4",
   "metadata": {},
   "outputs": [],
   "source": [
    "#df.dtypes\n",
    "#df.info()\n",
    "#df.describe()"
   ]
  },
  {
   "cell_type": "code",
   "execution_count": 16,
   "id": "d6443480",
   "metadata": {},
   "outputs": [
    {
     "name": "stdout",
     "output_type": "stream",
     "text": [
      "['AD', 'AE', 'AL', 'AM', 'AZ', 'BA', 'BE', 'BG', 'BH', 'CA', 'CH', 'CN', 'CO', 'CR', 'CY', 'CZ', 'DE', 'DK', 'DO', 'DZ', 'EE', 'EG', 'ES', 'FI', 'FR', 'GE', 'GR', 'GT', 'HK', 'HN', 'HR', 'HU', 'ID', 'IE', 'IL', 'IN', 'IS', 'IT', 'JO', 'JP', 'KR', 'KW', 'KZ', 'LB', 'LT', 'LU', 'LV', 'MA', 'MC', 'ME', 'MK', 'MO', 'MT', 'MX', 'MY', 'NL', 'NO', 'OM', 'PA', 'PH', 'PL', 'PT', 'QA', 'RO', 'RS', 'SA', 'SE', 'SG', 'SI', 'SK', 'SV', 'TH', 'TN', 'TR', 'TW', 'UA', 'UK', 'US']\n"
     ]
    }
   ],
   "source": [
    "#Transform extracted country code list\n",
    "for i in range(len(mylist)):\n",
    "    mylist[i] = mylist[i].upper()\n",
    "\n",
    "print(mylist)"
   ]
  },
  {
   "cell_type": "code",
   "execution_count": 17,
   "id": "63198492",
   "metadata": {},
   "outputs": [],
   "source": [
    "for i in range(len(mylist)):\n",
    "    if mylist[i] == 'UK':\n",
    "        mylist[i] = 'GB'"
   ]
  },
  {
   "cell_type": "code",
   "execution_count": 18,
   "id": "5b333a14",
   "metadata": {},
   "outputs": [],
   "source": [
    "countries = {}\n",
    "for country in pycountry.countries:\n",
    "    countries[country.alpha_2] = country.name\n",
    "\n",
    "country_name = [countries.get(country, 'Unknown code') for country in mylist]"
   ]
  },
  {
   "cell_type": "code",
   "execution_count": 23,
   "id": "834dc420",
   "metadata": {},
   "outputs": [],
   "source": [
    "#print(country_name)"
   ]
  },
  {
   "cell_type": "code",
   "execution_count": 19,
   "id": "6440926a",
   "metadata": {},
   "outputs": [
    {
     "name": "stdout",
     "output_type": "stream",
     "text": [
      "['AND', 'ARE', 'ALB', 'ARM', 'AZE', 'BIH', 'BEL', 'BGR', 'BHR', 'CAN', 'CHE', 'CHN', 'COL', 'CRI', 'CYP', 'CZE', 'DEU', 'DNK', 'DOM', 'DZA', 'EST', 'EGY', 'ESP', 'FIN', 'FRA', 'GEO', 'GRC', 'GTM', 'HKG', 'HND', 'HRV', 'HUN', 'IDN', 'IRL', 'ISR', 'IND', 'ISL', 'ITA', 'JOR', 'JPN', 'KOR', 'KWT', 'KAZ', 'LBN', 'LTU', 'LUX', 'LVA', 'MAR', 'MCO', 'MNE', 'MKD', 'MAC', 'MLT', 'MEX', 'MYS', 'NLD', 'NOR', 'OMN', 'PAN', 'PHL', 'POL', 'PRT', 'QAT', 'ROU', 'SRB', 'SAU', 'SWE', 'SGP', 'SVN', 'SVK', 'SLV', 'THA', 'TUN', 'TUR', 'TWN', 'UKR', 'GBR', 'USA']\n"
     ]
    }
   ],
   "source": [
    "#Getting ISO 3 country code \n",
    "countries_code_3 = {}\n",
    "for country in pycountry.countries:\n",
    "    countries_code_3[country.alpha_2] = country.alpha_3\n",
    "\n",
    "codes_3 = [countries_code_3.get(country, 'Unknown code') for country in mylist]\n",
    "print(codes_3)"
   ]
  },
  {
   "cell_type": "code",
   "execution_count": 20,
   "id": "5ecefd30",
   "metadata": {},
   "outputs": [],
   "source": [
    "#Currency codes\n",
    "currencies=['EUR','AED','ALL','AMD','AZN','BAM','EUR','BGN','BHD','CAD','CHF','CNY','COP','CRC','EUR','CZK','EUR','DKK','DOP','DZD','EUR','EGP','EUR','EUR','EUR','GEL','EUR','GTQ','HKD','HNL','HRK','HUF','IDR','EUR','ILS','INR','ISK','EUR','JOD','JPY','KRW','KWD','KZT','LBP','EUR','EUR','EUR','MAD','EUR','EUR','MKD','MOP','EUR','MXN','MYR','EUR','NOK','OMR','PAB','PHP','PLN','EUR','QAR','RON','RSD','SAR','SEK','SGD','EUR','EUR','USD','THB','TND','TRY','TWD','UAH','GBP','USD']"
   ]
  },
  {
   "cell_type": "code",
   "execution_count": 21,
   "id": "a1e7e30a",
   "metadata": {},
   "outputs": [
    {
     "name": "stdout",
     "output_type": "stream",
     "text": [
      "                    name          price\n",
      "0   POLKA DOT MINI DRESS      29.00 EUR\n",
      "1   POLKA DOT MINI DRESS     199.00 AED\n",
      "2   POLKA DOT MINI DRESS      3,990 ALL\n",
      "3   POLKA DOT MINI DRESS  24,900.00 AMD\n",
      "4   POLKA DOT MINI DRESS      89.00 AZN\n",
      "..                   ...            ...\n",
      "73  POLKA DOT MINI DRESS      659.95 TL\n",
      "74  POLKA DOT MINI DRESS      NT$ 1,490\n",
      "75  POLKA DOT MINI DRESS   1,499.00 UAH\n",
      "76  POLKA DOT MINI DRESS      35.99 GBP\n",
      "77  MICRO DOT MINI DRESS      49.90 USD\n",
      "\n",
      "[78 rows x 2 columns]\n"
     ]
    }
   ],
   "source": [
    "print(df)"
   ]
  },
  {
   "cell_type": "code",
   "execution_count": 24,
   "id": "a74e7912",
   "metadata": {},
   "outputs": [],
   "source": [
    "#Building the dataframe\n",
    "df['country_name']=country_name\n",
    "df['country_code']=mylist\n",
    "df['country_code_3']=codes_3\n",
    "df['currency']=currencies\n",
    "df['date']= np.datetime64('2023-02-23') #spring2023\n",
    "df['coleccion']='Spring2023'#Spring2023"
   ]
  },
  {
   "cell_type": "code",
   "execution_count": 30,
   "id": "4b84b17c",
   "metadata": {},
   "outputs": [],
   "source": [
    "#Cleaning and extracting price data\n",
    "df['realprice'] = df['price'].astype(str)\n",
    "df['itemprice'] = df['realprice'].str.extract('(\\d[\\d,.]*)', expand=False).str.strip()\n",
    "df.itemprice = df.itemprice.apply(lambda x : x.replace(',',''))\n",
    "df['itemprice'] = pd.to_numeric(df['itemprice'])"
   ]
  },
  {
   "cell_type": "code",
   "execution_count": null,
   "id": "6ae26225",
   "metadata": {},
   "outputs": [],
   "source": [
    "#pd.set_option(\"display.max_rows\", None, \"display.max_columns\", None)\n"
   ]
  },
  {
   "cell_type": "code",
   "execution_count": null,
   "id": "6f1b2966",
   "metadata": {},
   "outputs": [],
   "source": [
    "print(df)"
   ]
  },
  {
   "cell_type": "code",
   "execution_count": null,
   "id": "47cd689f",
   "metadata": {},
   "outputs": [],
   "source": [
    "#!pip install pycountry"
   ]
  },
  {
   "cell_type": "code",
   "execution_count": null,
   "id": "ec092c1e",
   "metadata": {},
   "outputs": [],
   "source": [
    "#!pip install forex_python"
   ]
  },
  {
   "cell_type": "code",
   "execution_count": 32,
   "id": "37277c3e",
   "metadata": {},
   "outputs": [],
   "source": [
    "#Formatting data\n",
    "df['itemprice'] = df['itemprice'].astype('int')\n",
    "df['date'] = df['date'].astype('datetime64[ns]')\n",
    "df['itemprice'] = pd.to_numeric(df['itemprice'])"
   ]
  },
  {
   "cell_type": "markdown",
   "id": "3456131f",
   "metadata": {},
   "source": [
    "###Extract Currency Exchange rates"
   ]
  },
  {
   "cell_type": "code",
   "execution_count": 33,
   "id": "25cfccd0",
   "metadata": {},
   "outputs": [],
   "source": [
    "import requests\n",
    "\n",
    "# Obtain exchange rates from website through API\n",
    "#API set up\n",
    "\n",
    "url = 'https://openexchangerates.org/api/historical/2023-02-23.json?app_id=39c95343154741898a021b4685254484'\n",
    "\n",
    "\n",
    "# Make request\n",
    "response = requests.get(url)\n",
    "data = response.json()\n"
   ]
  },
  {
   "cell_type": "code",
   "execution_count": 34,
   "id": "6e91c165",
   "metadata": {},
   "outputs": [
    {
     "name": "stdout",
     "output_type": "stream",
     "text": [
      "{'disclaimer': 'Usage subject to terms: https://openexchangerates.org/terms', 'license': 'https://openexchangerates.org/license', 'timestamp': 1677196799, 'base': 'USD', 'rates': {'AED': 3.673, 'AFN': 88.574683, 'ALL': 108.579022, 'AMD': 391.724763, 'ANG': 1.801845, 'AOA': 503.8311, 'ARS': 195.308185, 'AUD': 1.46885, 'AWG': 1.8, 'AZN': 1.7, 'BAM': 1.844061, 'BBD': 2, 'BDT': 107.049342, 'BGN': 1.847049, 'BHD': 0.376981, 'BIF': 2077.227482, 'BMD': 1, 'BND': 1.342152, 'BOB': 6.908503, 'BRL': 5.1379, 'BSD': 1, 'BTC': 4.1785503e-05, 'BTN': 82.708624, 'BWP': 13.277642, 'BYN': 2.523642, 'BZD': 2.015302, 'CAD': 1.354371, 'CDF': 2063.046927, 'CHF': 0.93367, 'CLF': 0.029149, 'CLP': 804.3, 'CNH': 6.917405, 'CNY': 6.9081, 'COP': 4899.17294, 'CRC': 557.807818, 'CUC': 1, 'CUP': 25.75, 'CVE': 103.963739, 'CZK': 22.3263, 'DJF': 177.827972, 'DKK': 7.025624, 'DOP': 55.733961, 'DZD': 136.752437, 'EGP': 30.6289, 'ERN': 15, 'ETB': 53.759624, 'EUR': 0.943556, 'FJD': 2.20465, 'FKP': 0.832155, 'GBP': 0.832155, 'GEL': 2.635, 'GGP': 0.832155, 'GHS': 12.897483, 'GIP': 0.832155, 'GMD': 61.1, 'GNF': 8599.29487, 'GTQ': 7.808341, 'GYD': 210.963472, 'HKD': 7.84695, 'HNL': 24.649023, 'HRK': 7.108816, 'HTG': 149.24809, 'HUF': 359.61, 'IDR': 15217.320144, 'ILS': 3.62825, 'IMP': 0.832155, 'INR': 82.617839, 'IQD': 1459.233454, 'IRR': 42350, 'ISK': 144.09, 'JEP': 0.832155, 'JMD': 154.255545, 'JOD': 0.7094, 'JPY': 134.6245, 'KES': 126.277397, 'KGS': 87.42, 'KHR': 4053.234142, 'KMF': 462.849915, 'KPW': 900, 'KRW': 1298.43, 'KWD': 0.306841, 'KYD': 0.8332, 'KZT': 448.213475, 'LAK': 16860.895139, 'LBP': 15041.939396, 'LKR': 364.929516, 'LRD': 157.799982, 'LSL': 18.342746, 'LYD': 4.817227, 'MAD': 10.394584, 'MDL': 18.800607, 'MGA': 4301.195638, 'MKD': 58.019259, 'MMK': 2099.603037, 'MNT': 3406.965265, 'MOP': 8.079783, 'MRU': 36.352665, 'MUR': 46.139999, 'MVR': 15.35, 'MWK': 1026.887408, 'MXN': 18.37196, 'MYR': 4.434, 'MZN': 64.000005, 'NAD': 18.27, 'NGN': 460.124665, 'NIO': 36.532749, 'NOK': 10.3064, 'NPR': 132.334249, 'NZD': 1.605124, 'OMR': 0.385007, 'PAB': 1, 'PEN': 3.806112, 'PGK': 3.56823, 'PHP': 54.969995, 'PKR': 260.949597, 'PLN': 4.461041, 'PYG': 7309.533235, 'QAR': 3.648561, 'RON': 4.6392, 'RSD': 110.699469, 'RUB': 75.404922, 'RWF': 1087.978768, 'SAR': 3.752071, 'SBD': 8.266721, 'SCR': 13.889321, 'SDG': 587.5, 'SEK': 10.4306, 'SGD': 1.34287, 'SHP': 0.832155, 'SLL': 17665, 'SOS': 568.353076, 'SRD': 33.47, 'SSP': 130.26, 'STD': 22823.990504, 'STN': 23.099914, 'SVC': 8.748739, 'SYP': 2512.53, 'SZL': 18.308992, 'THB': 34.720001, 'TJS': 10.704548, 'TMT': 3.51, 'TND': 3.1525, 'TOP': 2.351172, 'TRY': 18.8734, 'TTD': 6.790177, 'TWD': 30.380701, 'TZS': 2332, 'UAH': 36.744325, 'UGX': 3724.184495, 'USD': 1, 'UYU': 39.306644, 'UZS': 11314.813936, 'VES': 24.370898, 'VND': 23829.390085, 'VUV': 118.044, 'WST': 2.69755, 'XAF': 618.93247, 'XAG': 0.04688189, 'XAU': 0.00054844, 'XCD': 2.70255, 'XDR': 0.750417, 'XOF': 618.93247, 'XPD': 0.00069237, 'XPF': 112.596237, 'XPT': 0.0010486, 'YER': 250.350023, 'ZAR': 18.224401, 'ZMW': 19.670763, 'ZWL': 322}}\n"
     ]
    }
   ],
   "source": [
    "#print(data)"
   ]
  },
  {
   "cell_type": "code",
   "execution_count": 36,
   "id": "4102fdda",
   "metadata": {},
   "outputs": [
    {
     "name": "stdout",
     "output_type": "stream",
     "text": [
      "    currency        rate\n",
      "0        AED    3.673000\n",
      "1        AFN   88.574683\n",
      "2        ALL  108.579022\n",
      "3        AMD  391.724763\n",
      "4        ANG    1.801845\n",
      "..       ...         ...\n",
      "164      XPT    0.001049\n",
      "165      YER  250.350023\n",
      "166      ZAR   18.224401\n",
      "167      ZMW   19.670763\n",
      "168      ZWL  322.000000\n",
      "\n",
      "[169 rows x 2 columns]\n"
     ]
    }
   ],
   "source": [
    "#Create rates dataframe\n",
    "rates=(data['rates'])\n",
    "#print(rates)\n",
    "pt = pd.DataFrame(list(rates.items()),columns = ['currency','rate']) \n",
    "print(pt)"
   ]
  },
  {
   "cell_type": "code",
   "execution_count": 37,
   "id": "447a0037",
   "metadata": {},
   "outputs": [
    {
     "name": "stdout",
     "output_type": "stream",
     "text": [
      "                    name          price               country_name  \\\n",
      "0   POLKA DOT MINI DRESS      29.00 EUR                    Andorra   \n",
      "1   POLKA DOT MINI DRESS     199.00 AED       United Arab Emirates   \n",
      "2   POLKA DOT MINI DRESS      3,990 ALL                    Albania   \n",
      "3   POLKA DOT MINI DRESS  24,900.00 AMD                    Armenia   \n",
      "4   POLKA DOT MINI DRESS      89.00 AZN                 Azerbaijan   \n",
      "..                   ...            ...                        ...   \n",
      "73  POLKA DOT MINI DRESS      659.95 TL                     Turkey   \n",
      "74  POLKA DOT MINI DRESS      NT$ 1,490  Taiwan, Province of China   \n",
      "75  POLKA DOT MINI DRESS   1,499.00 UAH                    Ukraine   \n",
      "76  POLKA DOT MINI DRESS      35.99 GBP             United Kingdom   \n",
      "77  MICRO DOT MINI DRESS      49.90 USD              United States   \n",
      "\n",
      "   country_code country_code_3 currency       date   coleccion      realprice  \\\n",
      "0            AD            AND      EUR 2023-02-23  Spring2023      29.00 EUR   \n",
      "1            AE            ARE      AED 2023-02-23  Spring2023     199.00 AED   \n",
      "2            AL            ALB      ALL 2023-02-23  Spring2023      3,990 ALL   \n",
      "3            AM            ARM      AMD 2023-02-23  Spring2023  24,900.00 AMD   \n",
      "4            AZ            AZE      AZN 2023-02-23  Spring2023      89.00 AZN   \n",
      "..          ...            ...      ...        ...         ...            ...   \n",
      "73           TR            TUR      TRY 2023-02-23  Spring2023      659.95 TL   \n",
      "74           TW            TWN      TWD 2023-02-23  Spring2023      NT$ 1,490   \n",
      "75           UA            UKR      UAH 2023-02-23  Spring2023   1,499.00 UAH   \n",
      "76           GB            GBR      GBP 2023-02-23  Spring2023      35.99 GBP   \n",
      "77           US            USA      USD 2023-02-23  Spring2023      49.90 USD   \n",
      "\n",
      "    itemprice        rate  \n",
      "0          29    0.943556  \n",
      "1         199    3.673000  \n",
      "2        3990  108.579022  \n",
      "3       24900  391.724763  \n",
      "4          89    1.700000  \n",
      "..        ...         ...  \n",
      "73        659   18.873400  \n",
      "74       1490   30.380701  \n",
      "75       1499   36.744325  \n",
      "76         35    0.832155  \n",
      "77         49    1.000000  \n",
      "\n",
      "[78 rows x 11 columns]\n"
     ]
    }
   ],
   "source": [
    "#Merge price data with currency exchange rates\n",
    "df=df.merge(pt, on='currency', how='left')\n",
    "#print(df)"
   ]
  },
  {
   "cell_type": "code",
   "execution_count": 38,
   "id": "a7c258a2",
   "metadata": {},
   "outputs": [],
   "source": [
    "#Obtain USD base price\n",
    "df['price_USD']=df['itemprice']/df['rate']"
   ]
  },
  {
   "cell_type": "code",
   "execution_count": 39,
   "id": "b6011650",
   "metadata": {},
   "outputs": [
    {
     "name": "stdout",
     "output_type": "stream",
     "text": [
      "                    name          price               country_name  \\\n",
      "0   POLKA DOT MINI DRESS      29.00 EUR                    Andorra   \n",
      "1   POLKA DOT MINI DRESS     199.00 AED       United Arab Emirates   \n",
      "2   POLKA DOT MINI DRESS      3,990 ALL                    Albania   \n",
      "3   POLKA DOT MINI DRESS  24,900.00 AMD                    Armenia   \n",
      "4   POLKA DOT MINI DRESS      89.00 AZN                 Azerbaijan   \n",
      "..                   ...            ...                        ...   \n",
      "73  POLKA DOT MINI DRESS      659.95 TL                     Turkey   \n",
      "74  POLKA DOT MINI DRESS      NT$ 1,490  Taiwan, Province of China   \n",
      "75  POLKA DOT MINI DRESS   1,499.00 UAH                    Ukraine   \n",
      "76  POLKA DOT MINI DRESS      35.99 GBP             United Kingdom   \n",
      "77  MICRO DOT MINI DRESS      49.90 USD              United States   \n",
      "\n",
      "   country_code country_code_3 currency       date   coleccion      realprice  \\\n",
      "0            AD            AND      EUR 2023-02-23  Spring2023      29.00 EUR   \n",
      "1            AE            ARE      AED 2023-02-23  Spring2023     199.00 AED   \n",
      "2            AL            ALB      ALL 2023-02-23  Spring2023      3,990 ALL   \n",
      "3            AM            ARM      AMD 2023-02-23  Spring2023  24,900.00 AMD   \n",
      "4            AZ            AZE      AZN 2023-02-23  Spring2023      89.00 AZN   \n",
      "..          ...            ...      ...        ...         ...            ...   \n",
      "73           TR            TUR      TRY 2023-02-23  Spring2023      659.95 TL   \n",
      "74           TW            TWN      TWD 2023-02-23  Spring2023      NT$ 1,490   \n",
      "75           UA            UKR      UAH 2023-02-23  Spring2023   1,499.00 UAH   \n",
      "76           GB            GBR      GBP 2023-02-23  Spring2023      35.99 GBP   \n",
      "77           US            USA      USD 2023-02-23  Spring2023      49.90 USD   \n",
      "\n",
      "    itemprice        rate  price_USD  \n",
      "0          29    0.943556  30.734795  \n",
      "1         199    3.673000  54.179145  \n",
      "2        3990  108.579022  36.747430  \n",
      "3       24900  391.724763  63.565039  \n",
      "4          89    1.700000  52.352941  \n",
      "..        ...         ...        ...  \n",
      "73        659   18.873400  34.916867  \n",
      "74       1490   30.380701  49.044293  \n",
      "75       1499   36.744325  40.795415  \n",
      "76         35    0.832155  42.059472  \n",
      "77         49    1.000000  49.000000  \n",
      "\n",
      "[78 rows x 12 columns]\n"
     ]
    }
   ],
   "source": [
    "print(df)"
   ]
  },
  {
   "cell_type": "code",
   "execution_count": null,
   "id": "053c7014",
   "metadata": {},
   "outputs": [],
   "source": [
    "#Export to CSV\n",
    "df.to_csv('C:/Users/Carolina Mendoza/Documents/Applied Analytics/Proyectos/streamlit/Index/zara-spring2023.csv')"
   ]
  }
 ],
 "metadata": {
  "kernelspec": {
   "display_name": "Python 3 (ipykernel)",
   "language": "python",
   "name": "python3"
  },
  "language_info": {
   "codemirror_mode": {
    "name": "ipython",
    "version": 3
   },
   "file_extension": ".py",
   "mimetype": "text/x-python",
   "name": "python",
   "nbconvert_exporter": "python",
   "pygments_lexer": "ipython3",
   "version": "3.9.13"
  }
 },
 "nbformat": 4,
 "nbformat_minor": 5
}
